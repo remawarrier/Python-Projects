{
 "cells": [
  {
   "cell_type": "code",
   "execution_count": 1,
   "metadata": {},
   "outputs": [],
   "source": [
    "import pandas as pd\n",
    "import tkinter as tk"
   ]
  },
  {
   "cell_type": "code",
   "execution_count": 2,
   "metadata": {},
   "outputs": [],
   "source": [
    "import cv2\n",
    "%gui tk"
   ]
  },
  {
   "cell_type": "code",
   "execution_count": null,
   "metadata": {
    "scrolled": true
   },
   "outputs": [],
   "source": [
    "#Reading the image\n",
    "\n",
    "frame = tk.Tk()\n",
    "frame.title(\"Color Detection\")\n",
    "frame.geometry(\"300x200\")\n",
    "\n",
    "\n",
    "def getinput():\n",
    "    global imgpath\n",
    "    imgpath = text.getvar(1.0, \"end-1c\")\n",
    "    \n",
    "def submit():\n",
    "    getinput()\n",
    "\n",
    "def exit():\n",
    "    frame.destroy()\n",
    "    \n",
    "text = tk.Text(frame, height = 5, width = 10)\n",
    "text.pack()\n",
    "\n",
    "button = tk.Button(frame, text = \"Submit\", command = submit)\n",
    "button.pack()\n",
    "\n",
    "button2 = tk.Button(frame, text = \"Exit\", command = exit)\n",
    "button2.pack()\n",
    "\n",
    "frame.mainloop()"
   ]
  },
  {
   "cell_type": "code",
   "execution_count": null,
   "metadata": {},
   "outputs": [],
   "source": [
    "#global variables\n",
    "\n",
    "imgpath = \"\"\n",
    "clicked = False\n",
    "r = g = b = xpos = ypos = 0"
   ]
  },
  {
   "cell_type": "code",
   "execution_count": null,
   "metadata": {},
   "outputs": [],
   "source": [
    "img = cv2.imread(imgpath)\n",
    "index = ['color', 'colorname', 'hex', 'r', 'g', 'b']\n",
    "df = pd.read_csv(r\"D:\\Python projects\\Python Projects\\Color Detection\\python-project-color-detection\\colors.csv\", names = index)\n",
    "df.head()"
   ]
  },
  {
   "cell_type": "code",
   "execution_count": null,
   "metadata": {},
   "outputs": [],
   "source": [
    "# A function to calculate the distance between values, minimum value is taken as the colorname\n",
    "\n",
    "def GetColorName(r,g,b):\n",
    "    mini = 10000\n",
    "    \n",
    "    for i in range(len(df)):\n",
    "        dis = abs(r-int(df.iloc[i,3])) + abs(g-int(df.iloc[i,4])) + abs(b-int(df.iloc[i,5]))\n",
    "        \n",
    "        if dis<mini:\n",
    "            mini = dis\n",
    "            cname = df.iloc[i,1]\n",
    "    return cname"
   ]
  },
  {
   "cell_type": "code",
   "execution_count": null,
   "metadata": {},
   "outputs": [],
   "source": [
    "# To get the color values from the image and setting the global params\n",
    "\n",
    "def draw_function(event, x, y, flags, param):\n",
    "    if event == cv2.EVENT_LBUTTONDBLCLK:\n",
    "        global clicked,r,g,b,xpos,ypos\n",
    "        clicked = True\n",
    "        xpos = x\n",
    "        ypos = y\n",
    "        b,g,r = img[y,x]\n",
    "        b = int(b)\n",
    "        g = int(g)\n",
    "        r = int(r)\n",
    "        #print(r,g,b,type(r))"
   ]
  },
  {
   "cell_type": "code",
   "execution_count": null,
   "metadata": {},
   "outputs": [],
   "source": [
    "cv2.namedWindow(\"Image\")\n",
    "cv2.setMouseCallback('Image',draw_function)\n",
    "\n",
    "while 1:\n",
    "    cv2.imshow(\"Image\",img)\n",
    "    \n",
    "    if clicked:\n",
    "        cv2.rectangle(img,(20,20),(750,60),(b,g,r),-1)\n",
    "        text = GetColorName(r,g,b)\n",
    "        cv2.putText(img,text,(50,50),2,0.8,(255,255,255),2,cv2.LINE_AA)\n",
    "        clicked = False\n",
    "        \n",
    "    if cv2.waitKey(20) & 0xFF == 27:\n",
    "        break\n",
    "        \n",
    "cv2.destroyAllWindows()\n"
   ]
  },
  {
   "cell_type": "code",
   "execution_count": null,
   "metadata": {},
   "outputs": [],
   "source": []
  },
  {
   "cell_type": "code",
   "execution_count": null,
   "metadata": {},
   "outputs": [],
   "source": []
  }
 ],
 "metadata": {
  "kernelspec": {
   "display_name": "Python 3",
   "language": "python",
   "name": "python3"
  }
 },
 "nbformat": 4,
 "nbformat_minor": 4
}
